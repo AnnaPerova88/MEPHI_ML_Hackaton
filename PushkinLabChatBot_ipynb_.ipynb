{
  "cells": [
    {
      "cell_type": "code",
      "source": [
        "!pip install pyTelegramBotAPI"
      ],
      "metadata": {
        "colab": {
          "base_uri": "https://localhost:8080/"
        },
        "id": "dx8qjDu14RDv",
        "outputId": "c1e32fd8-fdd5-4128-ef79-b19cca7c5d6a"
      },
      "execution_count": null,
      "outputs": [
        {
          "output_type": "stream",
          "name": "stdout",
          "text": [
            "Collecting pyTelegramBotAPI\n",
            "  Downloading pytelegrambotapi-4.26.0-py3-none-any.whl.metadata (48 kB)\n",
            "\u001b[?25l     \u001b[90m━━━━━━━━━━━━━━━━━━━━━━━━━━━━━━━━━━━━━━━━\u001b[0m \u001b[32m0.0/48.1 kB\u001b[0m \u001b[31m?\u001b[0m eta \u001b[36m-:--:--\u001b[0m\r\u001b[2K     \u001b[90m━━━━━━━━━━━━━━━━━━━━━━━━━━━━━━━━━━━━━━━━\u001b[0m \u001b[32m48.1/48.1 kB\u001b[0m \u001b[31m4.6 MB/s\u001b[0m eta \u001b[36m0:00:00\u001b[0m\n",
            "\u001b[?25hRequirement already satisfied: requests in /usr/local/lib/python3.11/dist-packages (from pyTelegramBotAPI) (2.32.3)\n",
            "Requirement already satisfied: charset-normalizer<4,>=2 in /usr/local/lib/python3.11/dist-packages (from requests->pyTelegramBotAPI) (3.4.1)\n",
            "Requirement already satisfied: idna<4,>=2.5 in /usr/local/lib/python3.11/dist-packages (from requests->pyTelegramBotAPI) (3.10)\n",
            "Requirement already satisfied: urllib3<3,>=1.21.1 in /usr/local/lib/python3.11/dist-packages (from requests->pyTelegramBotAPI) (2.3.0)\n",
            "Requirement already satisfied: certifi>=2017.4.17 in /usr/local/lib/python3.11/dist-packages (from requests->pyTelegramBotAPI) (2025.1.31)\n",
            "Downloading pytelegrambotapi-4.26.0-py3-none-any.whl (270 kB)\n",
            "\u001b[?25l   \u001b[90m━━━━━━━━━━━━━━━━━━━━━━━━━━━━━━━━━━━━━━━━\u001b[0m \u001b[32m0.0/270.5 kB\u001b[0m \u001b[31m?\u001b[0m eta \u001b[36m-:--:--\u001b[0m\r\u001b[2K   \u001b[90m━━━━━━━━━━━━━━━━━━━━━━━━━━━━━━━━━━━━━━━━\u001b[0m \u001b[32m270.5/270.5 kB\u001b[0m \u001b[31m24.6 MB/s\u001b[0m eta \u001b[36m0:00:00\u001b[0m\n",
            "\u001b[?25hInstalling collected packages: pyTelegramBotAPI\n",
            "Successfully installed pyTelegramBotAPI-4.26.0\n"
          ]
        }
      ]
    },
    {
      "cell_type": "code",
      "execution_count": null,
      "metadata": {
        "id": "r-vJNYx5LwVS",
        "colab": {
          "base_uri": "https://localhost:8080/",
          "height": 349
        },
        "outputId": "97090a15-32f7-43e5-b0c0-8d88c0a3b070"
      },
      "outputs": [
        {
          "output_type": "error",
          "ename": "ModuleNotFoundError",
          "evalue": "No module named 'telebot'",
          "traceback": [
            "\u001b[0;31m---------------------------------------------------------------------------\u001b[0m",
            "\u001b[0;31mModuleNotFoundError\u001b[0m                       Traceback (most recent call last)",
            "\u001b[0;32m<ipython-input-1-5db1ca507572>\u001b[0m in \u001b[0;36m<cell line: 0>\u001b[0;34m()\u001b[0m\n\u001b[0;32m----> 1\u001b[0;31m \u001b[0;32mimport\u001b[0m \u001b[0mtelebot\u001b[0m\u001b[0;34m\u001b[0m\u001b[0;34m\u001b[0m\u001b[0m\n\u001b[0m\u001b[1;32m      2\u001b[0m \u001b[0;32mimport\u001b[0m \u001b[0mpandas\u001b[0m \u001b[0;32mas\u001b[0m \u001b[0mpd\u001b[0m\u001b[0;34m\u001b[0m\u001b[0;34m\u001b[0m\u001b[0m\n\u001b[1;32m      3\u001b[0m \u001b[0;32mfrom\u001b[0m \u001b[0mtelebot\u001b[0m\u001b[0;34m.\u001b[0m\u001b[0mtypes\u001b[0m \u001b[0;32mimport\u001b[0m \u001b[0mReplyKeyboardMarkup\u001b[0m\u001b[0;34m,\u001b[0m \u001b[0mKeyboardButton\u001b[0m\u001b[0;34m\u001b[0m\u001b[0;34m\u001b[0m\u001b[0m\n",
            "\u001b[0;31mModuleNotFoundError\u001b[0m: No module named 'telebot'",
            "",
            "\u001b[0;31m---------------------------------------------------------------------------\u001b[0;32m\nNOTE: If your import is failing due to a missing package, you can\nmanually install dependencies using either !pip or !apt.\n\nTo view examples of installing some common dependencies, click the\n\"Open Examples\" button below.\n\u001b[0;31m---------------------------------------------------------------------------\u001b[0m\n"
          ],
          "errorDetails": {
            "actions": [
              {
                "action": "open_url",
                "actionText": "Open Examples",
                "url": "/notebooks/snippets/importing_libraries.ipynb"
              }
            ]
          }
        }
      ],
      "source": [
        "import telebot\n",
        "import pandas as pd\n",
        "from telebot.types import ReplyKeyboardMarkup, KeyboardButton"
      ]
    },
    {
      "cell_type": "code",
      "execution_count": null,
      "metadata": {
        "id": "LEOgRuckMXTV"
      },
      "outputs": [],
      "source": [
        "\n",
        "#  API токен\n",
        "TOKEN = \"7757301495:AAHWGNrUXu_3J_JjSeje4W6TI0pZc4PxqwY\"\n",
        "bot = telebot.TeleBot(TOKEN)\n"
      ]
    },
    {
      "cell_type": "code",
      "source": [
        "# Загружаем датасет\n",
        "file_path = '/content/sample_data/PushkinLab2025.csv'  # Загруженный CSV-файл\n",
        "df = pd.read_csv(file_path, names=['question', 'answer'], dtype=str)  # Переименовываем столбцы"
      ],
      "metadata": {
        "id": "q2VVWfV2_k43"
      },
      "execution_count": null,
      "outputs": []
    },
    {
      "cell_type": "code",
      "source": [
        "import pandas as pd\n",
        "df = pd.read_csv('/content/sample_data/PushkinLab2025.csv', names=['question', 'answer'], dtype=str)\n",
        "print(df.head(10))  # Покажет первые 10 строк\n"
      ],
      "metadata": {
        "id": "FzhsaXUHArqp"
      },
      "execution_count": null,
      "outputs": []
    },
    {
      "cell_type": "code",
      "source": [
        "# Проверяем, загружены ли данные\n",
        "if df.empty:\n",
        "    print(\"⚠️ Ошибка: CSV-файл пустой или не найден!\")\n",
        "else:\n",
        "    print(f\"✅ Успешно загружено {len(df)} записей.\")"
      ],
      "metadata": {
        "colab": {
          "base_uri": "https://localhost:8080/"
        },
        "id": "MskE_cZ7uJoI",
        "outputId": "ce98522b-f16a-4715-f3ad-ebfb9ab52c46"
      },
      "execution_count": null,
      "outputs": [
        {
          "output_type": "stream",
          "name": "stdout",
          "text": [
            "✅ Успешно загружено 1018 записей.\n"
          ]
        }
      ]
    },
    {
      "cell_type": "code",
      "execution_count": null,
      "metadata": {
        "id": "NOtJ8AriR1xK"
      },
      "outputs": [],
      "source": [
        "def get_answer(question):\n",
        "    question = question.strip().lower()  # Приводим текст к единому формату\n",
        "    df['question'] = df['question'].astype(str).str.strip().str.lower()  # Приводим вопросы в таблице\n",
        "    answer_row = df[df['question'] == question]\n",
        "\n",
        "    if not answer_row.empty:\n",
        "        return answer_row.iloc[0]['answer']  # Получаем первый найденный ответ\n",
        "    else:\n",
        "        return \"Я пока не знаю ответа на этот вопрос. Попробуй выбрать один из примеров ниже!\"\n"
      ]
    },
    {
      "cell_type": "code",
      "execution_count": null,
      "metadata": {
        "id": "XnxA90yOR5dc"
      },
      "outputs": [],
      "source": [
        "# Функция генерации клавиатуры\n",
        "def generate_keyboard():\n",
        "    markup = ReplyKeyboardMarkup(resize_keyboard=True, one_time_keyboard=True)\n",
        "    for question in example_questions:\n",
        "        markup.add(KeyboardButton(f\"🎨 {question}\"))\n",
        "    markup.add(KeyboardButton(\"🔄 Обновить вопросы\"))\n",
        "    return markup\n"
      ]
    },
    {
      "cell_type": "code",
      "source": [
        "# Получаем 5 примеров вопросов из датасета\n",
        "num_questions = min(5, len(df['question'].dropna()))  # Берем минимум из 5 или всех доступных\n",
        "example_questions = df['question'].dropna().sample(num_questions).tolist()"
      ],
      "metadata": {
        "id": "Dp2W7tgM_27-"
      },
      "execution_count": null,
      "outputs": []
    },
    {
      "cell_type": "code",
      "source": [
        "def generate_keyboard():\n",
        "    markup = ReplyKeyboardMarkup(resize_keyboard=True, one_time_keyboard=True)\n",
        "    for question in example_questions:\n",
        "        markup.add(KeyboardButton(f\"🎨 {question}\"))\n",
        "    markup.add(KeyboardButton(\"🔄 Обновить вопросы\"))\n",
        "    return markup"
      ],
      "metadata": {
        "id": "XKCLVuG-_4n7"
      },
      "execution_count": null,
      "outputs": []
    },
    {
      "cell_type": "code",
      "source": [
        "@bot.message_handler(commands=['start'])\n",
        "def start_message(message):\n",
        "    bot.send_message(\n",
        "        message.chat.id,\n",
        "        \"🎨 Привет! Я чат-бот Пушкинского Музея **PushkinLab**.\\n\"\n",
        "        \"Я расскажу тебе про картины и художников Пушкинского музея. Спрашивай меня об **импрессионистах, постимпрессионистах, модернистах** и их произведениях!\\n\\n\"\n",
        "        \"Попробуй задать один из этих вопросов или напиши свой:\\n\\n\"\n",
        "        + \"\\n\".join([f\"👉 {q}\" for q in example_questions]),\n",
        "        reply_markup=generate_keyboard()\n",
        "    )"
      ],
      "metadata": {
        "id": "J22U-1ke_-_H"
      },
      "execution_count": null,
      "outputs": []
    },
    {
      "cell_type": "code",
      "source": [
        "\n",
        "@bot.message_handler(func=lambda message: message.text == \"🔄 Обновить вопросы\")\n",
        "def refresh_questions(message):\n",
        "    global example_questions\n",
        "    num_questions = min(5, len(df['question'].dropna()))\n",
        "    example_questions = df['question'].dropna().sample(num_questions).tolist()\n",
        "    bot.send_message(\n",
        "        message.chat.id,\n",
        "        \"🔄 Обновил список вопросов! Попробуй выбрать из новых примеров или задай свой вопрос.\\n\\n\"\n",
        "        + \"\\n\".join([f\"👉 {q}\" for q in example_questions]),\n",
        "        reply_markup=generate_keyboard()\n",
        "    )"
      ],
      "metadata": {
        "id": "Hiyyb2UoACpf"
      },
      "execution_count": null,
      "outputs": []
    },
    {
      "cell_type": "code",
      "source": [
        "\n",
        "@bot.message_handler(func=lambda message: True)\n",
        "def reply_to_message(message):\n",
        "    user_question = message.text.strip()\n",
        "    answer = get_answer(user_question)\n",
        "    bot.send_message(message.chat.id, f\"✍️ {answer}\", reply_markup=generate_keyboard())"
      ],
      "metadata": {
        "id": "iTPGURM_AHN2"
      },
      "execution_count": null,
      "outputs": []
    },
    {
      "cell_type": "code",
      "source": [
        "\n",
        "# Запуск бота\n",
        "if __name__ == \"__main__\":\n",
        "    print(\"Бот запущен!\")\n",
        "    bot.polling(none_stop=True)\n"
      ],
      "metadata": {
        "colab": {
          "base_uri": "https://localhost:8080/"
        },
        "id": "efR5a1M8AKi9",
        "outputId": "2ca07f95-9e50-4532-b80a-c5d2aa6f89b7"
      },
      "execution_count": null,
      "outputs": [
        {
          "output_type": "stream",
          "name": "stdout",
          "text": [
            "Бот запущен!\n"
          ]
        }
      ]
    }
  ],
  "metadata": {
    "colab": {
      "gpuType": "T4",
      "provenance": [],
      "machine_shape": "hm"
    },
    "kernelspec": {
      "display_name": "Python 3",
      "name": "python3"
    },
    "language_info": {
      "name": "python"
    }
  },
  "nbformat": 4,
  "nbformat_minor": 0
}