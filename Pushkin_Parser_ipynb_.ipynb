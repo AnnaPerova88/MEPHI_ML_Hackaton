{
  "nbformat": 4,
  "nbformat_minor": 0,
  "metadata": {
    "colab": {
      "private_outputs": true,
      "provenance": []
    },
    "kernelspec": {
      "name": "python3",
      "display_name": "Python 3"
    },
    "language_info": {
      "name": "python"
    }
  },
  "cells": [
    {
      "cell_type": "code",
      "source": [
        "import requests\n",
        "from bs4 import BeautifulSoup\n",
        "import os\n",
        "\n"
      ],
      "metadata": {
        "id": "H77Rm_z4o2uQ"
      },
      "execution_count": null,
      "outputs": []
    },
    {
      "cell_type": "code",
      "source": [
        "# URL сайта\n",
        "URL = \"https://collection.pushkinmuseum.art/entity/OBJECT?fund=13\"\n",
        "\n",
        "# Создаем папку для хранения изображений\n",
        "os.makedirs(\"images\", exist_ok=True)\n",
        "\n",
        "# Загружаем страницу\n",
        "response = requests.get(URL)\n",
        "if response.status_code == 200:\n",
        "    soup = BeautifulSoup(response.text, \"html.parser\")\n",
        "\n",
        "    # Найдем все элементы с изображениями\n",
        "    img_tags = soup.find_all(\"img\", class_=\"ofi lazyload\")\n",
        "\n",
        "    for img_tag in img_tags:\n",
        "        # Извлекаем URL из атрибута 'data-src'\n",
        "        img_url = img_tag.get(\"data-src\")\n",
        "        if img_url:\n",
        "            # Формируем имя файла\n",
        "            img_name = img_url.split(\"/\")[-1].split(\"?\")[0]\n",
        "\n",
        "            # Скачиваем изображение\n",
        "            try:\n",
        "                img_response = requests.get(\"https://collection.pushkinmuseum.art\" + img_url)\n",
        "                if img_response.status_code == 200:\n",
        "                    with open(f\"images/{img_name}\", \"wb\") as f:\n",
        "                        f.write(img_response.content)\n",
        "                        print(f\"Скачано изображение: {img_name}\")\n",
        "            except Exception as e:\n",
        "                print(f\"Ошибка скачивания {img_name}: {e}\")\n",
        "else:\n",
        "    print(\"Не удалось загрузить страницу. Код ошибки:\", response.status_code)"
      ],
      "metadata": {
        "id": "-g3E4QIVo8Dx"
      },
      "execution_count": null,
      "outputs": []
    },
    {
      "cell_type": "code",
      "source": [
        "import os\n",
        "print(os.getcwd())"
      ],
      "metadata": {
        "id": "ETUvE-3Cu9dZ"
      },
      "execution_count": null,
      "outputs": []
    }
  ]
}