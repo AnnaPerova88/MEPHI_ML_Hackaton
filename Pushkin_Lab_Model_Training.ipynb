{
  "nbformat": 4,
  "nbformat_minor": 0,
  "metadata": {
    "colab": {
      "private_outputs": true,
      "provenance": []
    },
    "kernelspec": {
      "name": "python3",
      "display_name": "Python 3"
    },
    "language_info": {
      "name": "python"
    }
  },
  "cells": [
    {
      "cell_type": "code",
      "execution_count": null,
      "metadata": {
        "id": "MZrVsfT4l5_-"
      },
      "outputs": [],
      "source": [
        "import pandas as pd\n",
        "from sklearn.model_selection import train_test_split\n",
        "from transformers import BertTokenizer, BertForQuestionAnswering, Trainer, TrainingArguments\n",
        "import torch\n",
        "from torch.utils.data import Dataset"
      ]
    },
    {
      "cell_type": "code",
      "source": [
        "import os\n",
        "print(os.listdir('/content/sample_data'))"
      ],
      "metadata": {
        "id": "LA6CiOLPtGaf"
      },
      "execution_count": null,
      "outputs": []
    },
    {
      "cell_type": "code",
      "source": [
        "import os\n",
        "print(os.listdir('/content'))"
      ],
      "metadata": {
        "id": "pDpICZd4tQTV"
      },
      "execution_count": null,
      "outputs": []
    },
    {
      "cell_type": "code",
      "source": [],
      "metadata": {
        "id": "tJaXjprqtSAy"
      },
      "execution_count": null,
      "outputs": []
    },
    {
      "cell_type": "code",
      "source": [
        "data = pd.read_csv('sample_data/Updated_Pushkin_Questions_Answers_801 - Sheet1.csv')"
      ],
      "metadata": {
        "id": "D7EZGH3cl_vT"
      },
      "execution_count": null,
      "outputs": []
    },
    {
      "cell_type": "code",
      "source": [
        "data.head()"
      ],
      "metadata": {
        "id": "X-q29Nhdt7P9"
      },
      "execution_count": null,
      "outputs": []
    },
    {
      "cell_type": "code",
      "source": [
        "# Просмотр структуры датасета\n",
        "data.columns = ['Question', 'Answer']  # Переименование столбцов для удобства\n",
        "data.head()"
      ],
      "metadata": {
        "id": "Y6wQMx2QvfhY"
      },
      "execution_count": null,
      "outputs": []
    },
    {
      "cell_type": "code",
      "source": [
        "# Проверка на наличие пустых значений\n",
        "data.dropna(inplace=True)"
      ],
      "metadata": {
        "id": "f5OhvSYvv5TT"
      },
      "execution_count": null,
      "outputs": []
    },
    {
      "cell_type": "code",
      "source": [
        "# Разделение на тренировочную и тестовую выборки\n",
        "train_data, test_data = train_test_split(data, test_size=0.2, random_state=42)"
      ],
      "metadata": {
        "id": "r-1fc0TIwJFJ"
      },
      "execution_count": null,
      "outputs": []
    },
    {
      "cell_type": "code",
      "source": [
        "# Сохранение выборок для дальнейшей работы\n",
        "train_file_path = \"/content/train_dataset.csv\"\n",
        "test_file_path = \"/content/test_dataset.csv\"\n",
        "train_data.to_csv(train_file_path, index=False)\n",
        "test_data.to_csv(test_file_path, index=False)"
      ],
      "metadata": {
        "id": "rhZ0CW3iq5GA"
      },
      "execution_count": null,
      "outputs": []
    },
    {
      "cell_type": "code",
      "source": [
        "train_file_path, test_file_path"
      ],
      "metadata": {
        "id": "HYKuW3bRwP80"
      },
      "execution_count": null,
      "outputs": []
    },
    {
      "cell_type": "code",
      "source": [
        "from sklearn.model_selection import train_test_split\n",
        "\n",
        "# Разделение на train и test\n",
        "train_texts, test_texts, train_labels, test_labels = train_test_split(\n",
        "    data['Question'], data['Answer'], test_size=0.2, random_state=42\n",
        ")"
      ],
      "metadata": {
        "id": "v-xNX3VJxfLf"
      },
      "execution_count": null,
      "outputs": []
    },
    {
      "cell_type": "code",
      "source": [
        "from transformers import BertTokenizer, BertForSequenceClassification\n",
        "\n",
        "# Загрузка токенайзера и модели\n",
        "tokenizer = BertTokenizer.from_pretrained(\"bert-base-uncased\")\n",
        "model = BertForSequenceClassification.from_pretrained(\"bert-base-uncased\", num_labels=2)"
      ],
      "metadata": {
        "id": "VG1s7JEExhpg"
      },
      "execution_count": null,
      "outputs": []
    },
    {
      "cell_type": "code",
      "source": [
        "from transformers import T5Tokenizer, T5ForConditionalGeneration\n",
        "import torch\n",
        "\n",
        "# Загрузка токенизатора и модели\n",
        "model_name = \"t5-small\"  # Вы можете использовать \"t5-base\" для более мощной модели\n",
        "tokenizer = T5Tokenizer.from_pretrained(model_name)\n",
        "model = T5ForConditionalGeneration.from_pretrained(model_name)"
      ],
      "metadata": {
        "id": "ICOecuwP6Qq-"
      },
      "execution_count": null,
      "outputs": []
    },
    {
      "cell_type": "code",
      "source": [
        "print(data.columns)"
      ],
      "metadata": {
        "id": "12_ztMNO63RH"
      },
      "execution_count": null,
      "outputs": []
    },
    {
      "cell_type": "code",
      "source": [
        "# Токенизация для Seq2Seq\n",
        "def tokenize_data(data, tokenizer, max_length=512):\n",
        "    inputs = [\"question: \" + q for q in data[\"Question\"].tolist()]  # Убедитесь, что используется правильное имя столбца\n",
        "    targets = data[\"Answer\"].tolist()  # Убедитесь, что используется правильное имя столбца\n",
        "\n",
        "    input_encodings = tokenizer(inputs, max_length=max_length, truncation=True, padding=True, return_tensors=\"pt\")\n",
        "    target_encodings = tokenizer(targets, max_length=max_length, truncation=True, padding=True, return_tensors=\"pt\")\n",
        "\n",
        "    return input_encodings.input_ids, input_encodings.attention_mask, target_encodings.input_ids\n",
        "\n",
        "# Токенизация train и test данных\n",
        "train_input_ids, train_attention_mask, train_labels = tokenize_data(train_data, tokenizer)\n",
        "test_input_ids, test_attention_mask, test_labels = tokenize_data(test_data, tokenizer)"
      ],
      "metadata": {
        "id": "HyjRfjDQ7XDU"
      },
      "execution_count": null,
      "outputs": []
    },
    {
      "cell_type": "code",
      "source": [
        "from torch.utils.data import Dataset, DataLoader\n",
        "\n",
        "class Seq2SeqDataset(Dataset):\n",
        "    def __init__(self, input_ids, attention_mask, labels):\n",
        "        self.input_ids = input_ids\n",
        "        self.attention_mask = attention_mask\n",
        "        self.labels = labels\n",
        "\n",
        "    def __len__(self):\n",
        "        return len(self.input_ids)\n",
        "\n",
        "    def __getitem__(self, idx):\n",
        "        return {\n",
        "            \"input_ids\": self.input_ids[idx],\n",
        "            \"attention_mask\": self.attention_mask[idx],\n",
        "            \"labels\": self.labels[idx],\n",
        "        }\n",
        "\n",
        "# Создаем датасеты\n",
        "train_dataset = Seq2SeqDataset(train_input_ids, train_attention_mask, train_labels)\n",
        "test_dataset = Seq2SeqDataset(test_input_ids, test_attention_mask, test_labels)\n",
        "\n",
        "# Создаем DataLoader\n",
        "train_loader = DataLoader(train_dataset, batch_size=8, shuffle=True)\n",
        "test_loader = DataLoader(test_dataset, batch_size=8)"
      ],
      "metadata": {
        "id": "PbeDbzia7vty"
      },
      "execution_count": null,
      "outputs": []
    },
    {
      "cell_type": "code",
      "source": [
        "# Загружаем модель\n",
        "model = T5ForConditionalGeneration.from_pretrained(\"t5-small\")\n",
        "model.to(\"cpu\")  # Используем CPU вместо GPU\n",
        "\n",
        "# Настройка оптимизатора\n",
        "optimizer = AdamW(model.parameters(), lr=5e-5)\n"
      ],
      "metadata": {
        "id": "ixPeWVCm8Nqf"
      },
      "execution_count": null,
      "outputs": []
    },
    {
      "cell_type": "code",
      "source": [
        "\n",
        "# Импорт оптимизатора из PyTorch\n",
        "from torch.optim import AdamW\n",
        "\n",
        "# Настройка оптимизатора\n",
        "optimizer = AdamW(model.parameters(), lr=5e-5)"
      ],
      "metadata": {
        "id": "L5TwBLg_8w74"
      },
      "execution_count": null,
      "outputs": []
    },
    {
      "cell_type": "code",
      "source": [
        "from torch.utils.data import DataLoader, TensorDataset\n",
        "\n",
        "# Создаем DataLoader для train и test данных\n",
        "train_dataset = TensorDataset(train_input_ids, train_attention_mask, train_labels)\n",
        "test_dataset = TensorDataset(test_input_ids, test_attention_mask, test_labels)\n",
        "\n",
        "train_dataloader = DataLoader(train_dataset, batch_size=8, shuffle=True)\n",
        "test_dataloader = DataLoader(test_dataset, batch_size=8)\n",
        "\n",
        "# Настройка параметров обучения\n",
        "epochs = 3\n",
        "device = \"cpu\"  # Убедитесь, что используется CPU, если нет GPU\n",
        "\n",
        "# Функция потерь\n",
        "loss_fn = torch.nn.CrossEntropyLoss()\n",
        "\n",
        "# Перевод модели в режим обучения\n",
        "model.train()"
      ],
      "metadata": {
        "id": "Cd3IkA5N8yic"
      },
      "execution_count": null,
      "outputs": []
    },
    {
      "cell_type": "code",
      "source": [
        "# Основной цикл обучения\n",
        "for epoch in range(epochs):\n",
        "    print(f\"Epoch {epoch + 1}/{epochs}\")\n",
        "    epoch_loss = 0\n",
        "\n",
        "    for batch in train_dataloader:\n",
        "        input_ids, attention_mask, labels = [x.to(device) for x in batch]\n",
        "\n",
        "        # Обнуление градиентов\n",
        "        optimizer.zero_grad()\n",
        "\n",
        "        # Прямой проход (forward pass)\n",
        "        outputs = model(input_ids=input_ids, attention_mask=attention_mask, labels=labels)\n",
        "        loss = outputs.loss\n",
        "        logits = outputs.logits\n",
        "\n",
        "        # Обратный проход (backward pass)\n",
        "        loss.backward()\n",
        "        optimizer.step()\n",
        "\n",
        "        epoch_loss += loss.item()\n",
        "\n",
        "    print(f\"Epoch Loss: {epoch_loss:.4f}\")"
      ],
      "metadata": {
        "id": "-YYVtwLs9Kqn"
      },
      "execution_count": null,
      "outputs": []
    },
    {
      "cell_type": "code",
      "source": [
        "model.save_pretrained(\"path_to_model\")\n",
        "tokenizer.save_pretrained(\"path_to_model\")"
      ],
      "metadata": {
        "id": "Vx2Kd8rppOiJ"
      },
      "execution_count": null,
      "outputs": []
    },
    {
      "cell_type": "code",
      "source": [],
      "metadata": {
        "id": "dIqkWSNqnWDx"
      },
      "execution_count": null,
      "outputs": []
    }
  ]
}